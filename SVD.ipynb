{
 "cells": [
  {
   "cell_type": "code",
   "execution_count": null,
   "metadata": {},
   "outputs": [],
   "source": [
    "from PIL import Image\n",
    "import numpy as np\n",
    "import pandas as pd\n",
    "import os\n",
    "from scipy.sparse.linalg import svds\n",
    "import matplotlib.pyplot as plt"
   ]
  },
  {
   "cell_type": "code",
   "execution_count": null,
   "metadata": {},
   "outputs": [],
   "source": [
    "def calculate_and_store_SVD():\n",
    "    df = pd.read_csv('data/filtered_df2.csv')\n",
    "\n",
    "    image_files = list(df['Image']) \n",
    "\n",
    "    sample_img = Image.open(\"data/eyeball_img/\" + image_files[0])\n",
    "    M, N = sample_img.size\n",
    "    print(f\"Image Dimensions: {M}, {N}\")\n",
    "\n",
    "    images_array = np.zeros((len(image_files), M * N * 3), dtype=np.float32)\n",
    "\n",
    "    for i, file in enumerate(image_files):\n",
    "        print(i)\n",
    "        img = Image.open(\"data/eyeball_img/\" + file).convert('RGB')\n",
    "        img_array = np.asarray(img, dtype=np.float32) / 255.0  # normalize to [0,1]\n",
    "        images_array[i, :] = img_array.flatten()  # flatten\n",
    "\n",
    "    U, S, Vt = svds(images_array, k=100)\n",
    "    np.savez(\"svd_results.npz\", U=U, S=S, Vt=Vt)"
   ]
  },
  {
   "cell_type": "code",
   "execution_count": 42,
   "metadata": {},
   "outputs": [],
   "source": [
    "data = np.load(\"svd_results.npz\")\n",
    "U, S, Vt = data[\"U\"], data[\"S\"], data[\"Vt\"]\n",
    "np.savez(\"svd_results_small\", U=U, S=S)"
   ]
  },
  {
   "cell_type": "code",
   "execution_count": null,
   "metadata": {},
   "outputs": [],
   "source": [
    "data = np.load(\"svd_results.npz\")\n",
    "U, S, Vt = data[\"U\"], data[\"S\"], data[\"Vt\"]\n",
    "top_2_U = U[:, :2]\n",
    "print(np.shape(top_2_U))\n",
    "df = pd.read_csv('data/filtered_df2.csv')\n",
    "df['top_1_coefficient'] = top_2_U[:, 0]  # First singular vector coefficient\n",
    "df['top_2_coefficient'] = top_2_U[:, 1]  # Second singular vector coefficient"
   ]
  },
  {
   "cell_type": "code",
   "execution_count": null,
   "metadata": {},
   "outputs": [],
   "source": [
    "colors = []\n",
    "for index, row in df.iterrows():\n",
    "    if row['N'] == 1:\n",
    "        colors.append('grey')\n",
    "    elif row['D'] == 1:\n",
    "        colors.append('red')\n",
    "    elif row['G'] == 1:\n",
    "        colors.append('yellow')\n",
    "    elif row['C'] == 1:\n",
    "        colors.append('green')\n",
    "    elif row['A'] == 1:\n",
    "        colors.append('orange')\n",
    "    elif row['H'] == 1:\n",
    "        colors.append('pink')\n",
    "    elif row['M'] == 1:\n",
    "        colors.append('blue')\n",
    "    elif row['O'] == 1:\n",
    "        colors.append('purple')\n",
    "df.plot.scatter(x='top_1_coefficient', y='top_2_coefficient', c=colors)"
   ]
  },
  {
   "cell_type": "code",
   "execution_count": null,
   "metadata": {},
   "outputs": [],
   "source": [
    "indicators = ['N', 'D', 'G', 'C', 'A', 'H', 'M', 'O']\n",
    "\n",
    "# Create an 8x8 grid of subplots\n",
    "fig, axes = plt.subplots(8, 8, figsize=(20, 20))\n",
    "\n",
    "# Iterate over the grid of subplots (8x8)\n",
    "for i in range(8):\n",
    "    for j in range(8):\n",
    "        # Select two indicator variables to compare\n",
    "        var1 = indicators[i]\n",
    "        var2 = indicators[j]\n",
    "\n",
    "        # Filter the data for the two indicator variables\n",
    "        # Points where var1 == 1 and var2 == 0 (first class)\n",
    "        class_1 = df[(df[var1] == 1) & (df[var2] == 0)]\n",
    "        # Points where var1 == 0 and var2 == 1 (second class)\n",
    "        class_2 = df[(df[var1] == 0) & (df[var2] == 1)]\n",
    "\n",
    "        # Scatter plot for the first class (using color 'red')\n",
    "        axes[i, j].scatter(class_1['top_1_coefficient'], class_1['top_2_coefficient'], color='red', label=var1, alpha=0.2)\n",
    "        \n",
    "        # Scatter plot for the second class (using color 'blue')\n",
    "        axes[i, j].scatter(class_2['top_1_coefficient'], class_2['top_2_coefficient'], color='blue', label=var2, alpha=0.2)\n",
    "        \n",
    "        # Set plot labels\n",
    "        axes[i, j].set_xlabel('Top Singular Vector 1')\n",
    "        axes[i, j].set_ylabel('Top Singular Vector 2')\n",
    "        axes[i, j].set_title(f'{var1} vs {var2}')\n",
    "\n",
    "        # Optionally add a legend\n",
    "        axes[i, j].legend()\n",
    "\n",
    "# Adjust layout for better spacing\n",
    "plt.tight_layout()\n",
    "plt.show()\n",
    "plt.clf()"
   ]
  },
  {
   "cell_type": "code",
   "execution_count": null,
   "metadata": {},
   "outputs": [],
   "source": []
  },
  {
   "cell_type": "code",
   "execution_count": null,
   "metadata": {},
   "outputs": [],
   "source": []
  },
  {
   "cell_type": "code",
   "execution_count": null,
   "metadata": {},
   "outputs": [],
   "source": []
  }
 ],
 "metadata": {
  "kernelspec": {
   "display_name": ".venv",
   "language": "python",
   "name": "python3"
  },
  "language_info": {
   "codemirror_mode": {
    "name": "ipython",
    "version": 3
   },
   "file_extension": ".py",
   "mimetype": "text/x-python",
   "name": "python",
   "nbconvert_exporter": "python",
   "pygments_lexer": "ipython3",
   "version": "3.12.0"
  }
 },
 "nbformat": 4,
 "nbformat_minor": 2
}
