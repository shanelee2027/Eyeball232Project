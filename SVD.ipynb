{
 "cells": [
  {
   "cell_type": "code",
   "execution_count": null,
   "metadata": {},
   "outputs": [],
   "source": [
    "from PIL import Image, ImageOps\n",
    "import numpy as np\n",
    "import pandas as pd\n",
    "import os\n",
    "from scipy.sparse.linalg import svds\n",
    "from scipy.stats import ttest_ind, shapiro, levene\n",
    "import matplotlib.pyplot as plt\n",
    "from itertools import combinations\n",
    "from hotelling.stats import hotelling_t2"
   ]
  },
  {
   "cell_type": "code",
   "execution_count": null,
   "metadata": {},
   "outputs": [],
   "source": [
    "def calculate_and_store_SVD():\n",
    "    df = pd.read_csv('data/filtered_df2.csv')\n",
    "\n",
    "    image_files = list(df['Image']) \n",
    "\n",
    "    sample_img = Image.open(\"data/eyeball_img/\" + image_files[0])\n",
    "    M, N = sample_img.size\n",
    "    print(f\"Image Dimensions: {M}, {N}\")\n",
    "\n",
    "    images_array = np.zeros((len(image_files), M * N), dtype=np.float32)\n",
    "\n",
    "    for i, file in enumerate(image_files):\n",
    "        print(i)\n",
    "        img = Image.open(\"data/eyeball_img/\" + file).convert('RGB')\n",
    "        img = ImageOps.grayscale(img)\n",
    "        img_array = np.asarray(img, dtype=np.float32) / 255.0  # normalize to [0,1]\n",
    "        images_array[i, :] = img_array.flatten()  # flatten\n",
    "\n",
    "    U, S, Vt = svds(images_array, k=100)\n",
    "    np.savez(\"grayscale_svd_results.npz\", U=U, S=S, Vt=Vt)"
   ]
  },
  {
   "cell_type": "code",
   "execution_count": null,
   "metadata": {},
   "outputs": [],
   "source": [
    "calculate_and_store_SVD()"
   ]
  },
  {
   "cell_type": "code",
   "execution_count": null,
   "metadata": {},
   "outputs": [],
   "source": [
    "data = np.load(\"grayscale_svd_results.npz\")\n",
    "U, S, Vt = data[\"U\"], data[\"S\"], data[\"Vt\"]\n",
    "U = U[:, ::-1]\n",
    "S = S[::-1]\n",
    "Vt = Vt[::-1, :]\n",
    "np.savez(\"grayscale_svd_results.npz\", U=U, S=S, Vt=Vt)"
   ]
  },
  {
   "cell_type": "code",
   "execution_count": null,
   "metadata": {},
   "outputs": [],
   "source": [
    "data = np.load(\"grayscale_svd_results.npz\")\n",
    "U, S, Vt = data[\"U\"], data[\"S\"], data[\"Vt\"]\n",
    "print(S)\n",
    "np.savez(\"grayscale_svd_results_small\", U=U, S=S)"
   ]
  },
  {
   "cell_type": "code",
   "execution_count": null,
   "metadata": {},
   "outputs": [],
   "source": [
    "data = np.load(\"grayscale_svd_results.npz\")\n",
    "U, S, Vt = data[\"U\"], data[\"S\"], data[\"Vt\"]\n",
    "top_2_U = U[:, :2]\n",
    "top_2_S = S[:2]\n",
    "top_2_coefficients = top_2_U * top_2_S\n",
    "print(np.shape(top_2_U))\n",
    "df = pd.read_csv('data/filtered_df2.csv')\n",
    "df['top_1_coefficient'] = top_2_coefficients[:, 0]  # First singular vector coefficient\n",
    "df['top_2_coefficient'] = top_2_coefficients[:, 1]  # Second singular vector coefficient\n",
    "display(df)"
   ]
  },
  {
   "cell_type": "code",
   "execution_count": null,
   "metadata": {},
   "outputs": [],
   "source": [
    "colors = []\n",
    "for index, row in df.iterrows():\n",
    "    if row['N'] == 1:\n",
    "        colors.append('grey')\n",
    "    elif row['D'] == 1:\n",
    "        colors.append('red')\n",
    "    elif row['G'] == 1:\n",
    "        colors.append('yellow')\n",
    "    elif row['C'] == 1:\n",
    "        colors.append('green')\n",
    "    elif row['A'] == 1:\n",
    "        colors.append('orange')\n",
    "    elif row['H'] == 1:\n",
    "        colors.append('pink')\n",
    "    elif row['M'] == 1:\n",
    "        colors.append('blue')\n",
    "    elif row['O'] == 1:\n",
    "        colors.append('purple')\n",
    "df.plot.scatter(x='top_1_coefficient', y='top_2_coefficient', c=colors)"
   ]
  },
  {
   "cell_type": "code",
   "execution_count": null,
   "metadata": {},
   "outputs": [],
   "source": [
    "indicators = ['N', 'D', 'G', 'C', 'A', 'H', 'M', 'O']\n",
    "\n",
    "# Create an 8x8 grid of subplots\n",
    "fig, axes = plt.subplots(8, 8, figsize=(20, 20))\n",
    "\n",
    "# Iterate over the grid of subplots (8x8)\n",
    "for i in range(8):\n",
    "    for j in range(8):\n",
    "        # Select two indicator variables to compare\n",
    "        var1 = indicators[i]\n",
    "        var2 = indicators[j]\n",
    "\n",
    "        # Filter the data for the two indicator variables\n",
    "        # Points where var1 == 1 and var2 == 0 (first class)\n",
    "        class_1 = df[(df[var1] == 1) & (df[var2] == 0)]\n",
    "        # Points where var1 == 0 and var2 == 1 (second class)\n",
    "        class_2 = df[(df[var1] == 0) & (df[var2] == 1)]\n",
    "\n",
    "        # Scatter plot for the first class (using color 'red')\n",
    "        axes[i, j].scatter(class_1['top_1_coefficient'], class_1['top_2_coefficient'], color='red', label=var1, alpha=0.2)\n",
    "        \n",
    "        # Scatter plot for the second class (using color 'blue')\n",
    "        axes[i, j].scatter(class_2['top_1_coefficient'], class_2['top_2_coefficient'], color='blue', label=var2, alpha=0.2)\n",
    "        \n",
    "        # Set plot labels\n",
    "        axes[i, j].set_xlabel('Top Singular Vector 1')\n",
    "        axes[i, j].set_ylabel('Top Singular Vector 2')\n",
    "        axes[i, j].set_title(f'{var1} vs {var2}')\n",
    "\n",
    "        # Optionally add a legend\n",
    "        axes[i, j].legend()\n",
    "\n",
    "# Adjust layout for better spacing\n",
    "plt.tight_layout()\n",
    "plt.show()\n",
    "plt.clf()"
   ]
  },
  {
   "cell_type": "code",
   "execution_count": null,
   "metadata": {},
   "outputs": [],
   "source": [
    "df[\"label\"] = df[[\"N\", \"D\", \"G\", \"C\", \"A\", \"H\", \"M\", \"O\"]].idxmax(axis=1)\n",
    "display(df)\n",
    "\n",
    "results = []\n",
    "\n",
    "for label1, label2 in combinations(df[\"label\"].unique(), 2):\n",
    "    group1 = df[df[\"label\"] == label1][[\"top_1_coefficient\", \"top_2_coefficient\"]]\n",
    "    group2 = df[df[\"label\"] == label2][[\"top_1_coefficient\", \"top_2_coefficient\"]]\n",
    "    \n",
    "    # 1. Normality check (Shapiro-Wilk test)\n",
    "    normality_group1 = shapiro(group1)\n",
    "    normality_group2 = shapiro(group2)\n",
    "    \n",
    "    # 2. Equality of variances check (Levene’s test)\n",
    "    levene_test = levene(group1[\"top_1_coefficient\"], group2[\"top_1_coefficient\"])\n",
    "    \n",
    "    # 3. Perform the pairwise t-test on both coefficients\n",
    "    t1 = ttest_ind(group1[\"top_1_coefficient\"], group2[\"top_1_coefficient\"])\n",
    "    t2 = ttest_ind(group1[\"top_2_coefficient\"], group2[\"top_2_coefficient\"])\n",
    "    \n",
    "    # 4. Multivariate normality check for Hotelling’s T² (can use a visual check or perform a test if available)\n",
    "    hotelling_result = hotelling_t2(group1.values, group2.values)\n",
    "    #print(\"Hotelling result:\", hotelling_result)\n",
    "    \n",
    "    results.append({\n",
    "        \"group1\": label1,\n",
    "        \"group2\": label2,\n",
    "        \"t1_stat\": t1.statistic,\n",
    "        \"t1_p\": t1.pvalue,\n",
    "        \"t2_stat\": t2.statistic,\n",
    "        \"t2_p\": t2.pvalue,\n",
    "        \"normality_group1_p\": normality_group1[1],  # Extract p-value from Shapiro-Wilk result\n",
    "        \"normality_group2_p\": normality_group2[1],  # Extract p-value from Shapiro-Wilk result\n",
    "        \"levene_stat\": levene_test.statistic,\n",
    "        \"levene_p\": levene_test.pvalue,\n",
    "        \"hotelling_p\": hotelling_result[2]  # p-value for multivariate normality\n",
    "    })\n",
    "\n",
    "# Create a DataFrame to store results\n",
    "test_results = pd.DataFrame(results)\n",
    "\n",
    "# Print the results to see assumptions and statistical tests\n",
    "display(test_results)"
   ]
  },
  {
   "cell_type": "code",
   "execution_count": null,
   "metadata": {},
   "outputs": [],
   "source": []
  },
  {
   "cell_type": "code",
   "execution_count": null,
   "metadata": {},
   "outputs": [],
   "source": []
  },
  {
   "cell_type": "code",
   "execution_count": null,
   "metadata": {},
   "outputs": [],
   "source": []
  },
  {
   "cell_type": "code",
   "execution_count": null,
   "metadata": {},
   "outputs": [],
   "source": []
  },
  {
   "cell_type": "code",
   "execution_count": null,
   "metadata": {},
   "outputs": [],
   "source": []
  }
 ],
 "metadata": {
  "kernelspec": {
   "display_name": ".venv",
   "language": "python",
   "name": "python3"
  },
  "language_info": {
   "codemirror_mode": {
    "name": "ipython",
    "version": 3
   },
   "file_extension": ".py",
   "mimetype": "text/x-python",
   "name": "python",
   "nbconvert_exporter": "python",
   "pygments_lexer": "ipython3",
   "version": "3.13.0"
  }
 },
 "nbformat": 4,
 "nbformat_minor": 2
}
