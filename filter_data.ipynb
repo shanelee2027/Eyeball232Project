{
 "cells": [
  {
   "cell_type": "code",
   "execution_count": null,
   "metadata": {},
   "outputs": [],
   "source": [
    "import pandas as pd\n",
    "import os"
   ]
  },
  {
   "cell_type": "code",
   "execution_count": null,
   "metadata": {},
   "outputs": [],
   "source": [
    "# df = pd.read_csv('data/full_df.csv')\n",
    "# df['sum'] = df['N'] + df['D'] + df['G'] +df['C'] +df['A'] + df['H'] + df['M'] + df['O']\n",
    "# display(df['sum'].value_counts())\n",
    "# df = df[df['sum'] == 1]\n",
    "# df = df[['ID', 'Left-Fundus', 'Right-Fundus', 'N', 'D', 'G', 'C', 'A', 'H', 'M', 'O']]\n",
    "# df = df.set_index('ID')\n",
    "# df.to_csv('filtered_df.csv')\n",
    "# df"
   ]
  },
  {
   "cell_type": "code",
   "execution_count": null,
   "metadata": {},
   "outputs": [],
   "source": [
    "df = pd.read_csv('data/filtered_df.csv')\n",
    "df = df.drop_duplicates()\n",
    "IDs = list(df['ID'])\n",
    "\n",
    "files = os.listdir(\"data/eyeball_img\")\n",
    "present_IDs = []\n",
    "for name in files:\n",
    "    present_IDs.append(int(name.split('_')[0]))\n",
    "present_IDs.sort()\n",
    "\n",
    "df = df.sort_values(by='ID')\n",
    "df['Include'] = False\n",
    "\n",
    "df['ID'] = pd.to_numeric(df['ID'])\n",
    "for index, row in df.iterrows():\n",
    "    if int(row['ID']) in present_IDs:\n",
    "        df.loc[index, 'Include'] = True\n",
    "    row['ID'] = 0\n",
    "\n",
    "df = df[df['Include'] == True]\n",
    "df['Image'] = df['ID'].astype(str) + \"_eyes.jpg\"\n",
    "df = df.reset_index()\n",
    "df = df[['ID', 'Image', 'N', 'D', 'G', 'C', 'A', 'H', 'M', 'O']]\n",
    "df.to_csv('data/filtered_df2.csv')\n",
    "df"
   ]
  }
 ],
 "metadata": {
  "kernelspec": {
   "display_name": ".venv",
   "language": "python",
   "name": "python3"
  },
  "language_info": {
   "codemirror_mode": {
    "name": "ipython",
    "version": 3
   },
   "file_extension": ".py",
   "mimetype": "text/x-python",
   "name": "python",
   "nbconvert_exporter": "python",
   "pygments_lexer": "ipython3",
   "version": "3.12.0"
  }
 },
 "nbformat": 4,
 "nbformat_minor": 2
}
