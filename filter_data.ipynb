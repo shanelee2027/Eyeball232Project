{
 "cells": [
  {
   "cell_type": "code",
   "execution_count": null,
   "metadata": {},
   "outputs": [],
   "source": [
    "import pandas as pd\n"
   ]
  },
  {
   "cell_type": "code",
   "execution_count": null,
   "metadata": {},
   "outputs": [],
   "source": [
    "df = pd.read_csv('data/full_df.csv')\n",
    "df['sum'] = df['N'] + df['D'] + df['G'] +df['C'] +df['A'] + df['H'] + df['M'] + df['O']\n",
    "display(df['sum'].value_counts())\n",
    "df = df[df['sum'] == 1]\n",
    "df = df[['ID', 'Left-Fundus', 'Right-Fundus', 'N', 'D', 'G', 'C', 'A', 'H', 'M', 'O']]\n",
    "df = df.set_index('ID')\n",
    "df.to_csv('filtered_df.csv')\n",
    "df"
   ]
  },
  {
   "cell_type": "code",
   "execution_count": null,
   "metadata": {},
   "outputs": [],
   "source": []
  }
 ],
 "metadata": {
  "kernelspec": {
   "display_name": ".venv",
   "language": "python",
   "name": "python3"
  },
  "language_info": {
   "codemirror_mode": {
    "name": "ipython",
    "version": 3
   },
   "file_extension": ".py",
   "mimetype": "text/x-python",
   "name": "python",
   "nbconvert_exporter": "python",
   "pygments_lexer": "ipython3",
   "version": "3.13.0"
  }
 },
 "nbformat": 4,
 "nbformat_minor": 2
}
